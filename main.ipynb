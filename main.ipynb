{
 "cells": [
  {
   "cell_type": "code",
   "execution_count": 131,
   "metadata": {
    "collapsed": true,
    "pycharm": {
     "name": "#%%\n"
    }
   },
   "outputs": [],
   "source": [
    "import requests\n",
    "from bs4 import BeautifulSoup\n",
    "# import re"
   ]
  },
  {
   "cell_type": "code",
   "execution_count": 132,
   "outputs": [],
   "source": [
    "base_url = \"https://indeed.com\"\n",
    "url = f\"{base_url}/jobs?q=python&l=new+york\"\n",
    "response = requests.get(url)"
   ],
   "metadata": {
    "collapsed": false,
    "pycharm": {
     "name": "#%%\n"
    }
   }
  },
  {
   "cell_type": "code",
   "execution_count": 71,
   "outputs": [],
   "source": [
    "# response.content[1000:2000]"
   ],
   "metadata": {
    "collapsed": false,
    "pycharm": {
     "name": "#%%  Let's have a look into the HTML contents returned\n"
    }
   }
  },
  {
   "cell_type": "code",
   "execution_count": 72,
   "outputs": [],
   "source": [
    "# loc = str(response.content).find('python')\n",
    "# loc"
   ],
   "metadata": {
    "collapsed": false,
    "pycharm": {
     "name": "#%%  Do a string search for a keyword\n"
    }
   }
  },
  {
   "cell_type": "code",
   "execution_count": 73,
   "outputs": [],
   "source": [
    "# response.content[loc-10:loc+10]"
   ],
   "metadata": {
    "collapsed": false,
    "pycharm": {
     "name": "#%%\n"
    }
   }
  },
  {
   "cell_type": "code",
   "execution_count": 74,
   "outputs": [],
   "source": [
    "# re.findall(r\"python\", str(response.content))"
   ],
   "metadata": {
    "collapsed": false,
    "pycharm": {
     "name": "#%% Regular Expressions\n"
    }
   }
  },
  {
   "cell_type": "code",
   "execution_count": 133,
   "outputs": [],
   "source": [
    "soup = BeautifulSoup(response.content)\n",
    "# soup"
   ],
   "metadata": {
    "collapsed": false,
    "pycharm": {
     "name": "#%% Parsing (similar to what you get if you 'inspect source' in browser\n"
    }
   }
  },
  {
   "cell_type": "code",
   "execution_count": 134,
   "outputs": [],
   "source": [
    "# soup.find(id='id_name') - only returns the first id element found\n",
    "result = soup.find(id='mosaic-provider-jobcards')\n",
    "# result"
   ],
   "metadata": {
    "collapsed": false,
    "pycharm": {
     "name": "#%%  Find Elements by ID\n"
    }
   }
  },
  {
   "cell_type": "code",
   "execution_count": 135,
   "outputs": [
    {
     "data": {
      "text/plain": "<a class=\"tapItem fs-unmask result job_84cd5d4912bbccd3 resultWithShelf sponTapItem desktop\" data-hide-spinner=\"true\" data-hiring-event=\"false\" data-jk=\"84cd5d4912bbccd3\" data-mobtk=\"1fdsb45m3s7n9800\" href=\"/rc/clk?jk=84cd5d4912bbccd3&amp;fccid=aaf3b433897ea465&amp;vjs=3\" id=\"job_84cd5d4912bbccd3\" rel=\"nofollow\" target=\"_blank\"><div class=\"slider_container\"><div class=\"slider_list\"><div class=\"slider_item\"><div class=\"job_seen_beacon\"><table cellpadding=\"0\" cellspacing=\"0\" class=\"jobCard_mainContent\" role=\"presentation\"><tbody><tr><td class=\"resultContent\"><div class=\"heading4 color-text-primary singleLineTitle tapItem-gutter\"><h2 class=\"jobTitle jobTitle-color-purple\"><span title=\"Python/React developer\">Python/React developer</span></h2></div><div class=\"heading6 company_location tapItem-gutter\"><pre><span class=\"companyName\"><a class=\"turnstileLink companyOverviewLink\" data-tn-element=\"companyName\" href=\"/cmp/Chase-2\" rel=\"noopener\" target=\"_blank\">JPMorgan Chase Bank, N.A.</a></span><span class=\"ratingsDisplay withRatingLink\"><a aria-label=\"Company rating 3.9 out of 5 stars\" class=\"ratingLink\" data-tn-variant=\"cmplinktst2\" href=\"/cmp/Chase-2/reviews\" rel=\"noopener\" target=\"_blank\" title=\"JPMorgan Chase Bank, N.A. reviews\"><span aria-label=\"3.9 of stars rating\" class=\"ratingNumber\" role=\"img\"><span aria-hidden=\"true\">3.9</span><svg aria-hidden=\"true\" class=\"starIcon\" fill=\"none\" height=\"12\" viewbox=\"0 0 16 16\" width=\"12\" xmlns=\"http://www.w3.org/2000/svg\"><path d=\"M8 12.8709L12.4542 15.5593C12.7807 15.7563 13.1835 15.4636 13.0968 15.0922L11.9148 10.0254L15.8505 6.61581C16.1388 6.36608 15.9847 5.89257 15.6047 5.86033L10.423 5.42072L8.39696 0.640342C8.24839 0.289808 7.7516 0.289808 7.60303 0.640341L5.57696 5.42072L0.395297 5.86033C0.015274 5.89257 -0.13882 6.36608 0.149443 6.61581L4.0852 10.0254L2.90318 15.0922C2.81653 15.4636 3.21932 15.7563 3.54584 15.5593L8 12.8709Z\" fill=\"#767676\"></path></svg></span></a></span><div class=\"companyLocation\">New York, NY</div></pre></div><div class=\"heading6 error-text tapItem-gutter\"></div></td></tr></tbody></table><table class=\"jobCardShelfContainer\" role=\"presentation\"><tbody><tr class=\"jobCardShelf\"></tr><tr class=\"underShelfFooter\"><td><div class=\"heading6 tapItem-gutter result-footer\"><div class=\"job-snippet\"><ul style=\"list-style-type:circle;margin-top: 0px;margin-bottom: 0px;padding-left:20px;\">\n<li style=\"margin-bottom:0px;\">Design and develop applications by gathering requirements from users.</li>\n<li>Write maintainable &amp; testable code using <b>Python</b> &amp; React.</li>\n</ul></div><span class=\"date\">14 days ago</span><span class=\"result-link-bar-separator\">·</span><button aria-expanded=\"false\" class=\"sl resultLink more_links_button\" type=\"button\">More...</button></div><div class=\"tab-container\"><div class=\"more-links-container result-tab\" role=\"presentation\"><div class=\"more_links\"><button class=\"close-button\" title=\"Close\" type=\"button\"></button><ul><li><span class=\"mat\">View all <a href=\"/q-JPMorgan-Chase-Bank,-N-A-l-New-York,-NY-jobs.html\">JPMorgan Chase Bank, N.A. jobs in New York, NY</a> - <a href=\"/l-New-York,-NY-jobs.html\">New York jobs</a></span></li><li><span class=\"mat\">Salary Search: <a href=\"/career/python-developer/salaries/New-York--NY?campaignid=serp-more&amp;fromjk=84cd5d4912bbccd3&amp;from=serp-more\">Python/React developer salaries in New York, NY</a></span></li><li><span class=\"mat\">See popular <a href=\"/cmp/Chase-2/faq\">questions &amp; answers about JPMorgan Chase Bank, N.A.</a></span></li></ul></div></div></div></td></tr></tbody></table><div aria-live=\"polite\"></div></div></div><div class=\"slider_sub_item\"></div></div></div><div class=\"kebabMenu\"><button aria-expanded=\"false\" aria-haspopup=\"true\" aria-label=\"Job Actions\" class=\"kebabMenu-button\"><svg fill=\"none\" height=\"24\" viewbox=\"0 0 24 24\" width=\"24\" xmlns=\"http://www.w3.org/2000/svg\"><path d=\"M12 7C13.1 7 14 6.1 14 5C14 3.9 13.1 3 12 3C10.9 3 10 3.9 10 5C10 6.1 10.9 7 12 7ZM12 10C10.9 10 10 10.9 10 12C10 13.1 10.9 14 12 14C13.1 14 14 13.1 14 12C14 10.9 13.1 10 12 10ZM12 17C10.9 17 10 17.9 10 19C10 20.1 10.9 21 12 21C13.1 21 14 20.1 14 19C14 17.9 13.1 17 12 17Z\" fill=\"#2d2d2d\"></path></svg></button></div></a>"
     },
     "execution_count": 135,
     "metadata": {},
     "output_type": "execute_result"
    }
   ],
   "source": [
    "jobs = result.find_all('a', class_='result')\n",
    "len(jobs)\n",
    "jobs[0]"
   ],
   "metadata": {
    "collapsed": false,
    "pycharm": {
     "name": "#%%  Find Element by Class Name\n"
    }
   }
  },
  {
   "cell_type": "code",
   "execution_count": 136,
   "outputs": [
    {
     "data": {
      "text/plain": "'Python/React developer'"
     },
     "execution_count": 136,
     "metadata": {},
     "output_type": "execute_result"
    }
   ],
   "source": [
    "title = jobs[0].find('h2')\n",
    "title = title.text\n",
    "title.strip()\n",
    "title"
   ],
   "metadata": {
    "collapsed": false,
    "pycharm": {
     "name": "#%%  Extract Text from HTML Elements (soup.text)\n"
    }
   }
  },
  {
   "cell_type": "code",
   "execution_count": 137,
   "outputs": [
    {
     "data": {
      "text/plain": "['Python/React developer',\n 'Early Careers | Financial Modeling & Research | New York',\n 'Python Developer-1',\n 'newClinical Research Coordinator - Sleep and Circadian Analysis...',\n 'Python Backend Engineer',\n 'newSoftware Engineer',\n 'Data Analyst, Artist Insights',\n 'newUnqork Configurator-Consultant Low Code No Code',\n 'Data Specialist',\n 'Software Developer - Python',\n 'Software Engineer-Remote OK',\n 'Data Scientist I',\n 'newUX Engineer, Front End, Early Career',\n 'newAssociate - GED Options Trading, TD Securities',\n 'Looking for an entry-level or graduate job?']"
     },
     "execution_count": 137,
     "metadata": {},
     "output_type": "execute_result"
    }
   ],
   "source": [
    "job_titles = [job.find('h2').text.strip() for job in jobs]\n",
    "job_titles\n"
   ],
   "metadata": {
    "collapsed": false,
    "pycharm": {
     "name": "#%%\n"
    }
   }
  },
  {
   "cell_type": "code",
   "execution_count": 139,
   "outputs": [
    {
     "data": {
      "text/plain": "'/rc/clk?jk=84cd5d4912bbccd3&fccid=aaf3b433897ea465&vjs=3'"
     },
     "execution_count": 139,
     "metadata": {},
     "output_type": "execute_result"
    }
   ],
   "source": [
    "job_link = jobs[0]\n",
    "job_link['href']"
   ],
   "metadata": {
    "collapsed": false,
    "pycharm": {
     "name": "#%%  Extract Attributes from HTML Element (any atribute in element)\n"
    }
   }
  },
  {
   "cell_type": "code",
   "execution_count": 141,
   "outputs": [
    {
     "data": {
      "text/plain": "'https://indeed.com/rc/clk?jk=84cd5d4912bbccd3&fccid=aaf3b433897ea465&vjs=3'"
     },
     "execution_count": 141,
     "metadata": {},
     "output_type": "execute_result"
    }
   ],
   "source": [
    "job_url = base_url + job_link['href']\n",
    "job_url"
   ],
   "metadata": {
    "collapsed": false,
    "pycharm": {
     "name": "#%%\n"
    }
   }
  },
  {
   "cell_type": "code",
   "execution_count": 144,
   "outputs": [
    {
     "data": {
      "text/plain": "\"Python/React developer - New York, NY - Indeed.com\\n\\n\\n\\n\\n\\n\\n\\n\\n\\n\\n\\n\\n\\n\\n\\n\\n\\n\\nIndeed HomeFind jobsCompany reviewsFind salariesUpload your resumeSign inSign inEmployers / Post JobStart of main content \\n\\n\\nWhatWhereFind JobsAdvanced Job SearchPython/React developerJPMorgan Chase Bank, N.A.8,624 reviewsNew York, NYFull-timeJPMorgan Chase Bank, N.A.8,624 reviewsRead what people are saying about working here.Job detailsJob TypeFull-timeFull Job DescriptionAs a member of our Software Engineering Group, we look first and foremost for people who are passionate around solving business problems through innovation and engineering practices. You'll be required to apply your depth of knowledge and expertise to all aspects of the software development lifecycle, as well as partner continuously with your many stakeholders on a daily basis to stay focused on common goals. We embrace a culture of experimentation and constantly strive for improvement and learning. You'll work in a collaborative, trusting, thought-provoking environment-one that encourages diversity of thought and creative solutions that are in the best interests of our customers globally.\\nSpecifically the role requires you to:\\nDesign and develop applications by gathering requirements from usersWrite maintainable & testable code using Python & ReactBuilding reusable components and front-end libraries for future use.Automate tests and deployments alleviating the need for manual interventionCollaborate with other technology teams to ensure successful integrationResearch and learn new methodologies and technologies and bring knowledge to the teamBuild applications based on cloud-native principles and deploy to cloud platforms\\nSkill Set:\\nProficiency in multiple modern programming languages such as: Python, Java, J2EE technologies, ReactImplementation skills using Python and ReactStrong understanding of web development practicesStrong believer of code quality and writes unit case using mocking frameworks (pytest, jest, etc.)Good understanding of one more relational databases (SQL Server, Oracle, etc.)Willing and able to learn the business and understand how and why tasks satisfy business needs\\nFamiliarity with code versioning tools such as Git etc.\\nAbility to collaborate with high-performing teams and individualsBachelor or Master Degree in Computer Science or equivalentSelf-starter, ability to work in a fast-paced environment\\nDesirable Skills:\\n\\nCloud-native development and deployment skills\\nFamiliar with CICD pipelines (ex: Jenkins) with end-to-end automation\\nWhen you work at JPMorgan Chase & Co., you're not just working at a global financial institution. You're an integral part of one of the world's biggest tech organizations. In our global technology centers, our team of 50,000 technologists design, build and deploy everything from enterprise technology initiatives to big data and mobile solutions, as well as innovations in electronic payments, cybersecurity, machine learning, and cloud development. Our $11B annual investment in technology enables us to hire people to create innovative solutions that are transforming the financial services industry.\\nJPMorgan Chase & Co., one of the oldest financial institutions, offers innovative financial solutions to millions of consumers, small businesses and many of the world's most prominent corporate, institutional and government clients under the J.P. Morgan and Chase brands. Our history spans over 200 years and today we are a leader in investment banking, consumer and small business banking, commercial banking, financial transaction processing and asset management.\\nWe recognize that our people are our strength and the diverse talents they bring to our global workforce are directly linked to our success. We are an equal opportunity employer and place a high value on diversity and inclusion at our company. We do not discriminate on the basis of any protected attribute, including race, religion, color, national origin, gender, sexual orientation, gender identity, gender expression, age, marital or veteran status, pregnancy or disability, or any other basis protected under applicable law. In accordance with applicable law, we make reasonable accommodations for applicants' and employees' religious practices and beliefs, as well as any mental health or physical disability needs.\\nEqual Opportunity Employer/Disability/VeteransJPMorgan Chase14 days agooriginal jobReport jobYou must create an Indeed account before continuing to the company website to applyApply NowApply On Company SiteSave this jobSave this jobPython Developer jobs in New York, NYJobs at JPMorgan Chase Bank in New York, NYPython Developer salaries in New York, NYCompany InfoFollowGet job updates from JPMorgan Chase Bank, N.A.JPMorgan Chase Bank, N.A.8,624 reviewsOne of the most respected companies in the world, Chase offers experienced professionals like you an array of opportunities to take your ...Let employers find youThousands of employers search for candidates on IndeedUpload your resume\\nHiring LabCareer AdviceBrowse JobsBrowse CompaniesSalariesFind CertificationsIndeed EventsWork at IndeedCountriesAboutHelp Center© 2021 IndeedDo Not Sell My Personal InformationAccessibility at IndeedPrivacy CenterCookiesPrivacyTermsLet Employers Find YouUpload Your Resume\""
     },
     "execution_count": 144,
     "metadata": {},
     "output_type": "execute_result"
    }
   ],
   "source": [
    "job_site = requests.get(job_url)\n",
    "job_soup = BeautifulSoup(job_site.content)\n",
    "job_soup.text.strip()"
   ],
   "metadata": {
    "collapsed": false,
    "pycharm": {
     "name": "#%%\n"
    }
   }
  },
  {
   "cell_type": "code",
   "execution_count": null,
   "outputs": [],
   "source": [],
   "metadata": {
    "collapsed": false,
    "pycharm": {
     "name": "#%%\n"
    }
   }
  }
 ],
 "metadata": {
  "kernelspec": {
   "display_name": "Python 3",
   "language": "python",
   "name": "python3"
  },
  "language_info": {
   "codemirror_mode": {
    "name": "ipython",
    "version": 2
   },
   "file_extension": ".py",
   "mimetype": "text/x-python",
   "name": "python",
   "nbconvert_exporter": "python",
   "pygments_lexer": "ipython2",
   "version": "2.7.6"
  }
 },
 "nbformat": 4,
 "nbformat_minor": 0
}